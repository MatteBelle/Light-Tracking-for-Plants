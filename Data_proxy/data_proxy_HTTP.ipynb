{
 "cells": [
  {
   "cell_type": "code",
   "execution_count": 1,
   "metadata": {},
   "outputs": [
    {
     "name": "stdout",
     "output_type": "stream",
     "text": [
      " * Serving Flask app \"__main__\" (lazy loading)\n",
      " * Environment: production\n",
      "   WARNING: This is a development server. Do not use it in a production deployment.\n",
      "   Use a production WSGI server instead.\n",
      " * Debug mode: off\n"
     ]
    },
    {
     "name": "stderr",
     "output_type": "stream",
     "text": [
      " * Running on http://0.0.0.0:5000/ (Press CTRL+C to quit)\n",
      "172.20.10.3 - - [08/Oct/2024 16:42:57] \"\u001b[37mPOST /sensor_data HTTP/1.1\u001b[0m\" 200 -\n",
      "172.20.10.3 - - [08/Oct/2024 16:43:03] \"\u001b[37mPOST /sensor_data HTTP/1.1\u001b[0m\" 200 -\n",
      "172.20.10.3 - - [08/Oct/2024 16:43:09] \"\u001b[37mPOST /sensor_data HTTP/1.1\u001b[0m\" 200 -\n",
      "172.20.10.3 - - [08/Oct/2024 16:43:15] \"\u001b[37mPOST /sensor_data HTTP/1.1\u001b[0m\" 200 -\n",
      "172.20.10.3 - - [08/Oct/2024 16:43:20] \"\u001b[37mPOST /sensor_data HTTP/1.1\u001b[0m\" 200 -\n",
      "172.20.10.3 - - [08/Oct/2024 16:43:25] \"\u001b[37mPOST /sensor_data HTTP/1.1\u001b[0m\" 200 -\n",
      "172.20.10.3 - - [08/Oct/2024 16:43:31] \"\u001b[37mPOST /sensor_data HTTP/1.1\u001b[0m\" 200 -\n",
      "172.20.10.3 - - [08/Oct/2024 16:43:36] \"\u001b[37mPOST /sensor_data HTTP/1.1\u001b[0m\" 200 -\n",
      "172.20.10.3 - - [08/Oct/2024 16:43:41] \"\u001b[37mPOST /sensor_data HTTP/1.1\u001b[0m\" 200 -\n"
     ]
    },
    {
     "ename": "",
     "evalue": "",
     "output_type": "error",
     "traceback": [
      "\u001b[1;31mThe Kernel crashed while executing code in the current cell or a previous cell. \n",
      "\u001b[1;31mPlease review the code in the cell(s) to identify a possible cause of the failure. \n",
      "\u001b[1;31mClick <a href='https://aka.ms/vscodeJupyterKernelCrash'>here</a> for more info. \n",
      "\u001b[1;31mView Jupyter <a href='command:jupyter.viewOutput'>log</a> for further details."
     ]
    }
   ],
   "source": [
    "import json\n",
    "import time\n",
    "from flask import Flask, request, jsonify\n",
    "from influxdb import InfluxDBClient\n",
    "\n",
    "app = Flask(__name__)\n",
    "\n",
    "# InfluxDB connection settings\n",
    "# Uncomment below when InfluxDB is used\n",
    "# client = InfluxDBClient(host='localhost', port=8086)\n",
    "# client.switch_database('plant_light_data')\n",
    "\n",
    "# Endpoint to receive sensor data via HTTP\n",
    "@app.route('/sensor_data', methods=['POST'])\n",
    "def sensor_data():\n",
    "    try:\n",
    "        data = request.get_json()\n",
    "        timestamp = time.time()\n",
    "\n",
    "        # Prepare data for InfluxDB\n",
    "        influx_data = [\n",
    "            {\n",
    "                \"measurement\": \"light_sensor\",\n",
    "                \"tags\": {\n",
    "                    \"sensor_id\": \"plant_ldr\"\n",
    "                },\n",
    "                \"fields\": {\n",
    "                    \"sensor_1_value\": data[\"sensor_1_value\"],\n",
    "                    \"sensor_2_value\": data[\"sensor_2_value\"]\n",
    "                },\n",
    "                \"position\": data[\"position\"],\n",
    "                \"time\": int(timestamp)\n",
    "            }\n",
    "        ]\n",
    "\n",
    "        # Save data locally to a file\n",
    "        with open('sensor_data.json', 'a') as f:\n",
    "            json.dump(data, f)\n",
    "            f.write('\\n')\n",
    "         \n",
    "        # Write to InfluxDB (if needed)\n",
    "        # client.write_points(influx_data)\n",
    "\n",
    "        return jsonify({\"status\": \"success\"}), 200\n",
    "\n",
    "    except Exception as e:\n",
    "        print(f\"Error: {str(e)}\")\n",
    "        return jsonify({\"status\": \"error\", \"message\": str(e)}), 500\n",
    "\n",
    "if __name__ == '__main__':\n",
    "    app.run(host='0.0.0.0', port=5000)"
   ]
  }
 ],
 "metadata": {
  "kernelspec": {
   "display_name": "base",
   "language": "python",
   "name": "python3"
  },
  "language_info": {
   "codemirror_mode": {
    "name": "ipython",
    "version": 3
   },
   "file_extension": ".py",
   "mimetype": "text/x-python",
   "name": "python",
   "nbconvert_exporter": "python",
   "pygments_lexer": "ipython3",
   "version": "3.8.5"
  }
 },
 "nbformat": 4,
 "nbformat_minor": 2
}
