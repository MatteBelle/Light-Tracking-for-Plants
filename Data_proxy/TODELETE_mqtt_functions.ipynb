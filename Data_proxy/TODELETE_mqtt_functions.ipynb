{
 "cells": [
  {
   "cell_type": "code",
   "execution_count": 2,
   "metadata": {},
   "outputs": [],
   "source": [
    "import paho.mqtt.publish as publish\n",
    "SAMPLING_RATE = \"plant/sampling_rate\"\n",
    "POSITION = \"plant/change_position\"\n",
    "LIGHT = \"plant/light/toggle\"\n",
    "\n",
    "class MQTTException(Exception):\n",
    "    pass\n",
    "\n",
    "class MqttFunctions:\n",
    "    def __init__(self, broker, port) -> None:\n",
    "        self.broker = broker\n",
    "        self.port = port\n",
    "\n",
    "    def change_position(self, sensor_id, new_position):\n",
    "        publish.single(POSITION, f\"{sensor_id};{new_position}\", port=self.port, hostname=self.broker)\n",
    "\n",
    "    def change_sampling_rate(self, sensor_id, sampling_rate):\n",
    "        publish.single(SAMPLING_RATE, f\"{sensor_id};{sampling_rate}\", port=self.port, hostname=self.broker)\n",
    "\n",
    "    def toggle_ligt(self, sensor_id):\n",
    "        publish.single(LIGHT, f\"{sensor_id}\", port=self.port, hostname=self.broker)"
   ]
  }
 ],
 "metadata": {
  "kernelspec": {
   "display_name": "base",
   "language": "python",
   "name": "python3"
  },
  "language_info": {
   "codemirror_mode": {
    "name": "ipython",
    "version": 3
   },
   "file_extension": ".py",
   "mimetype": "text/x-python",
   "name": "python",
   "nbconvert_exporter": "python",
   "pygments_lexer": "ipython3",
   "version": "3.12.2"
  }
 },
 "nbformat": 4,
 "nbformat_minor": 2
}
