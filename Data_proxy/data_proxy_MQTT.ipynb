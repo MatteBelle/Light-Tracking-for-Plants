{
 "cells": [
  {
   "cell_type": "code",
   "execution_count": 1,
   "metadata": {},
   "outputs": [
    {
     "name": "stdout",
     "output_type": "stream",
     "text": [
      " * Serving Flask app \"__main__\" (lazy loading)\n",
      " * Environment: production\n",
      "   WARNING: This is a development server. Do not use it in a production deployment.\n",
      "   Use a production WSGI server instead.\n",
      " * Debug mode: off\n"
     ]
    },
    {
     "name": "stderr",
     "output_type": "stream",
     "text": [
      " * Running on http://0.0.0.0:5000/ (Press CTRL+C to quit)\n",
      "172.20.10.3 - - [08/Oct/2024 16:42:57] \"\u001b[37mPOST /sensor_data HTTP/1.1\u001b[0m\" 200 -\n",
      "172.20.10.3 - - [08/Oct/2024 16:43:03] \"\u001b[37mPOST /sensor_data HTTP/1.1\u001b[0m\" 200 -\n",
      "172.20.10.3 - - [08/Oct/2024 16:43:09] \"\u001b[37mPOST /sensor_data HTTP/1.1\u001b[0m\" 200 -\n",
      "172.20.10.3 - - [08/Oct/2024 16:43:15] \"\u001b[37mPOST /sensor_data HTTP/1.1\u001b[0m\" 200 -\n",
      "172.20.10.3 - - [08/Oct/2024 16:43:20] \"\u001b[37mPOST /sensor_data HTTP/1.1\u001b[0m\" 200 -\n",
      "172.20.10.3 - - [08/Oct/2024 16:43:25] \"\u001b[37mPOST /sensor_data HTTP/1.1\u001b[0m\" 200 -\n",
      "172.20.10.3 - - [08/Oct/2024 16:43:31] \"\u001b[37mPOST /sensor_data HTTP/1.1\u001b[0m\" 200 -\n",
      "172.20.10.3 - - [08/Oct/2024 16:43:36] \"\u001b[37mPOST /sensor_data HTTP/1.1\u001b[0m\" 200 -\n",
      "172.20.10.3 - - [08/Oct/2024 16:43:41] \"\u001b[37mPOST /sensor_data HTTP/1.1\u001b[0m\" 200 -\n"
     ]
    },
    {
     "ename": "",
     "evalue": "",
     "output_type": "error",
     "traceback": [
      "\u001b[1;31mThe Kernel crashed while executing code in the current cell or a previous cell. \n",
      "\u001b[1;31mPlease review the code in the cell(s) to identify a possible cause of the failure. \n",
      "\u001b[1;31mClick <a href='https://aka.ms/vscodeJupyterKernelCrash'>here</a> for more info. \n",
      "\u001b[1;31mView Jupyter <a href='command:jupyter.viewOutput'>log</a> for further details."
     ]
    }
   ],
   "source": [
    "import paho.mqtt.client as mqtt\n",
    "\n",
    "# MQTT Broker connection settings\n",
    "mqtt_broker = \"localhost\"\n",
    "mqtt_topic_sampling = \"plant/sampling_rate\"\n",
    "mqtt_topic_position = \"plant/change_position\"\n",
    "\n",
    "# I create a local variable to store the position of the plant sensor\n",
    "plant_position = \"position A\"\n",
    "\n",
    "mqtt_client = mqtt.Client()\n",
    "\n",
    "# MQTT connect callback\n",
    "def on_connect(client, userdata, flags, rc):\n",
    "    if rc == 0:\n",
    "        print(\"Connected to MQTT Broker!\")\n",
    "    else:\n",
    "        print(f\"Failed to connect, return code {rc}\")\n",
    "\n",
    "# Setup MQTT\n",
    "def mqtt_setup():\n",
    "    mqtt_client.on_connect = on_connect\n",
    "    mqtt_client.connect(mqtt_broker)\n",
    "    mqtt_client.loop_start()  # Start the MQTT client loop\n",
    "\n",
    "# Function to publish MQTT messages\n",
    "def publish_mqtt(topic, message):\n",
    "    mqtt_client.publish(topic, message)\n",
    "    print(f\"Published message: {message} to topic: {topic}\")\n",
    "\n",
    "# Function to change the position of the plant sensor\n",
    "def change_position(new_position):\n",
    "    global plant_position\n",
    "    plant_position = new_position\n",
    "    print(f\"Plant position changed to: {plant_position}\")\n",
    "    publish_mqtt(mqtt_topic_position, plant_position)\n",
    "\n",
    "if __name__ == \"__main__\":\n",
    "    # Initialize MQTT setup\n",
    "    mqtt_setup()\n",
    "\n",
    "    # Example: publishing sampling rate change\n",
    "    publish_mqtt(mqtt_topic_sampling, \"2\")  # Change sampling rate to 60 seconds\n",
    "    \n",
    "    # Example: publishing position change\n",
    "    publish_mqtt(mqtt_topic_position, \"position B\")  # Change position to position B\n",
    "    \n",
    "    # Keep the script running for MQTT to continue\n",
    "    while True:\n",
    "        pass\n"
   ]
  }
 ],
 "metadata": {
  "kernelspec": {
   "display_name": "base",
   "language": "python",
   "name": "python3"
  },
  "language_info": {
   "codemirror_mode": {
    "name": "ipython",
    "version": 3
   },
   "file_extension": ".py",
   "mimetype": "text/x-python",
   "name": "python",
   "nbconvert_exporter": "python",
   "pygments_lexer": "ipython3",
   "version": "3.8.5"
  }
 },
 "nbformat": 4,
 "nbformat_minor": 2
}
