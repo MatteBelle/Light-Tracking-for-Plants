{
 "cells": [
  {
   "cell_type": "code",
   "execution_count": 5,
   "metadata": {},
   "outputs": [
    {
     "name": "stderr",
     "output_type": "stream",
     "text": [
      "/var/folders/c6/1hn20g9j0gqc9yhtqyl13xcw0000gn/T/ipykernel_23389/2727284510.py:11: DeprecationWarning: Callback API version 1 is deprecated, update to latest version\n",
      "  mqtt_client = mqtt.Client()\n"
     ]
    },
    {
     "ename": "ConnectionRefusedError",
     "evalue": "[Errno 61] Connection refused",
     "output_type": "error",
     "traceback": [
      "\u001b[0;31m---------------------------------------------------------------------------\u001b[0m",
      "\u001b[0;31mConnectionRefusedError\u001b[0m                    Traceback (most recent call last)",
      "Cell \u001b[0;32mIn[5], line 40\u001b[0m\n\u001b[1;32m     36\u001b[0m     publish_mqtt(mqtt_topic_position, plant_position)\n\u001b[1;32m     38\u001b[0m \u001b[38;5;28;01mif\u001b[39;00m \u001b[38;5;18m__name__\u001b[39m \u001b[38;5;241m==\u001b[39m \u001b[38;5;124m\"\u001b[39m\u001b[38;5;124m__main__\u001b[39m\u001b[38;5;124m\"\u001b[39m:\n\u001b[1;32m     39\u001b[0m     \u001b[38;5;66;03m# Initialize MQTT setup\u001b[39;00m\n\u001b[0;32m---> 40\u001b[0m     \u001b[43mmqtt_setup\u001b[49m\u001b[43m(\u001b[49m\u001b[43m)\u001b[49m\n\u001b[1;32m     42\u001b[0m     \u001b[38;5;66;03m# Example: publishing sampling rate change\u001b[39;00m\n\u001b[1;32m     43\u001b[0m     publish_mqtt(mqtt_topic_sampling, \u001b[38;5;124m\"\u001b[39m\u001b[38;5;124m2\u001b[39m\u001b[38;5;124m\"\u001b[39m)  \u001b[38;5;66;03m# Change sampling rate to 60 seconds\u001b[39;00m\n",
      "Cell \u001b[0;32mIn[5], line 23\u001b[0m, in \u001b[0;36mmqtt_setup\u001b[0;34m()\u001b[0m\n\u001b[1;32m     21\u001b[0m \u001b[38;5;28;01mdef\u001b[39;00m \u001b[38;5;21mmqtt_setup\u001b[39m():\n\u001b[1;32m     22\u001b[0m     mqtt_client\u001b[38;5;241m.\u001b[39mon_connect \u001b[38;5;241m=\u001b[39m on_connect\n\u001b[0;32m---> 23\u001b[0m     \u001b[43mmqtt_client\u001b[49m\u001b[38;5;241;43m.\u001b[39;49m\u001b[43mconnect\u001b[49m\u001b[43m(\u001b[49m\u001b[43mmqtt_broker\u001b[49m\u001b[43m)\u001b[49m\n\u001b[1;32m     24\u001b[0m     mqtt_client\u001b[38;5;241m.\u001b[39mloop_start()\n",
      "File \u001b[0;32m/opt/miniconda3/lib/python3.12/site-packages/paho/mqtt/client.py:1435\u001b[0m, in \u001b[0;36mClient.connect\u001b[0;34m(self, host, port, keepalive, bind_address, bind_port, clean_start, properties)\u001b[0m\n\u001b[1;32m   1431\u001b[0m         \u001b[38;5;28;01mraise\u001b[39;00m \u001b[38;5;167;01mValueError\u001b[39;00m(\u001b[38;5;124m\"\u001b[39m\u001b[38;5;124mProperties only apply to MQTT V5\u001b[39m\u001b[38;5;124m\"\u001b[39m)\n\u001b[1;32m   1433\u001b[0m \u001b[38;5;28mself\u001b[39m\u001b[38;5;241m.\u001b[39mconnect_async(host, port, keepalive,\n\u001b[1;32m   1434\u001b[0m                    bind_address, bind_port, clean_start, properties)\n\u001b[0;32m-> 1435\u001b[0m \u001b[38;5;28;01mreturn\u001b[39;00m \u001b[38;5;28;43mself\u001b[39;49m\u001b[38;5;241;43m.\u001b[39;49m\u001b[43mreconnect\u001b[49m\u001b[43m(\u001b[49m\u001b[43m)\u001b[49m\n",
      "File \u001b[0;32m/opt/miniconda3/lib/python3.12/site-packages/paho/mqtt/client.py:1598\u001b[0m, in \u001b[0;36mClient.reconnect\u001b[0;34m(self)\u001b[0m\n\u001b[1;32m   1595\u001b[0m         \u001b[38;5;28;01mif\u001b[39;00m \u001b[38;5;129;01mnot\u001b[39;00m \u001b[38;5;28mself\u001b[39m\u001b[38;5;241m.\u001b[39msuppress_exceptions:\n\u001b[1;32m   1596\u001b[0m             \u001b[38;5;28;01mraise\u001b[39;00m\n\u001b[0;32m-> 1598\u001b[0m \u001b[38;5;28mself\u001b[39m\u001b[38;5;241m.\u001b[39m_sock \u001b[38;5;241m=\u001b[39m \u001b[38;5;28;43mself\u001b[39;49m\u001b[38;5;241;43m.\u001b[39;49m\u001b[43m_create_socket\u001b[49m\u001b[43m(\u001b[49m\u001b[43m)\u001b[49m\n\u001b[1;32m   1600\u001b[0m \u001b[38;5;28mself\u001b[39m\u001b[38;5;241m.\u001b[39m_sock\u001b[38;5;241m.\u001b[39msetblocking(\u001b[38;5;28;01mFalse\u001b[39;00m)  \u001b[38;5;66;03m# type: ignore[attr-defined]\u001b[39;00m\n\u001b[1;32m   1601\u001b[0m \u001b[38;5;28mself\u001b[39m\u001b[38;5;241m.\u001b[39m_registered_write \u001b[38;5;241m=\u001b[39m \u001b[38;5;28;01mFalse\u001b[39;00m\n",
      "File \u001b[0;32m/opt/miniconda3/lib/python3.12/site-packages/paho/mqtt/client.py:4609\u001b[0m, in \u001b[0;36mClient._create_socket\u001b[0;34m(self)\u001b[0m\n\u001b[1;32m   4607\u001b[0m     sock \u001b[38;5;241m=\u001b[39m \u001b[38;5;28mself\u001b[39m\u001b[38;5;241m.\u001b[39m_create_unix_socket_connection()\n\u001b[1;32m   4608\u001b[0m \u001b[38;5;28;01melse\u001b[39;00m:\n\u001b[0;32m-> 4609\u001b[0m     sock \u001b[38;5;241m=\u001b[39m \u001b[38;5;28;43mself\u001b[39;49m\u001b[38;5;241;43m.\u001b[39;49m\u001b[43m_create_socket_connection\u001b[49m\u001b[43m(\u001b[49m\u001b[43m)\u001b[49m\n\u001b[1;32m   4611\u001b[0m \u001b[38;5;28;01mif\u001b[39;00m \u001b[38;5;28mself\u001b[39m\u001b[38;5;241m.\u001b[39m_ssl:\n\u001b[1;32m   4612\u001b[0m     sock \u001b[38;5;241m=\u001b[39m \u001b[38;5;28mself\u001b[39m\u001b[38;5;241m.\u001b[39m_ssl_wrap_socket(sock)\n",
      "File \u001b[0;32m/opt/miniconda3/lib/python3.12/site-packages/paho/mqtt/client.py:4640\u001b[0m, in \u001b[0;36mClient._create_socket_connection\u001b[0;34m(self)\u001b[0m\n\u001b[1;32m   4638\u001b[0m     \u001b[38;5;28;01mreturn\u001b[39;00m socks\u001b[38;5;241m.\u001b[39mcreate_connection(addr, timeout\u001b[38;5;241m=\u001b[39m\u001b[38;5;28mself\u001b[39m\u001b[38;5;241m.\u001b[39m_connect_timeout, source_address\u001b[38;5;241m=\u001b[39msource, \u001b[38;5;241m*\u001b[39m\u001b[38;5;241m*\u001b[39mproxy)\n\u001b[1;32m   4639\u001b[0m \u001b[38;5;28;01melse\u001b[39;00m:\n\u001b[0;32m-> 4640\u001b[0m     \u001b[38;5;28;01mreturn\u001b[39;00m \u001b[43msocket\u001b[49m\u001b[38;5;241;43m.\u001b[39;49m\u001b[43mcreate_connection\u001b[49m\u001b[43m(\u001b[49m\u001b[43maddr\u001b[49m\u001b[43m,\u001b[49m\u001b[43m \u001b[49m\u001b[43mtimeout\u001b[49m\u001b[38;5;241;43m=\u001b[39;49m\u001b[38;5;28;43mself\u001b[39;49m\u001b[38;5;241;43m.\u001b[39;49m\u001b[43m_connect_timeout\u001b[49m\u001b[43m,\u001b[49m\u001b[43m \u001b[49m\u001b[43msource_address\u001b[49m\u001b[38;5;241;43m=\u001b[39;49m\u001b[43msource\u001b[49m\u001b[43m)\u001b[49m\n",
      "File \u001b[0;32m/opt/miniconda3/lib/python3.12/socket.py:852\u001b[0m, in \u001b[0;36mcreate_connection\u001b[0;34m(address, timeout, source_address, all_errors)\u001b[0m\n\u001b[1;32m    850\u001b[0m \u001b[38;5;28;01mtry\u001b[39;00m:\n\u001b[1;32m    851\u001b[0m     \u001b[38;5;28;01mif\u001b[39;00m \u001b[38;5;129;01mnot\u001b[39;00m all_errors:\n\u001b[0;32m--> 852\u001b[0m         \u001b[38;5;28;01mraise\u001b[39;00m exceptions[\u001b[38;5;241m0\u001b[39m]\n\u001b[1;32m    853\u001b[0m     \u001b[38;5;28;01mraise\u001b[39;00m ExceptionGroup(\u001b[38;5;124m\"\u001b[39m\u001b[38;5;124mcreate_connection failed\u001b[39m\u001b[38;5;124m\"\u001b[39m, exceptions)\n\u001b[1;32m    854\u001b[0m \u001b[38;5;28;01mfinally\u001b[39;00m:\n\u001b[1;32m    855\u001b[0m     \u001b[38;5;66;03m# Break explicitly a reference cycle\u001b[39;00m\n",
      "File \u001b[0;32m/opt/miniconda3/lib/python3.12/socket.py:837\u001b[0m, in \u001b[0;36mcreate_connection\u001b[0;34m(address, timeout, source_address, all_errors)\u001b[0m\n\u001b[1;32m    835\u001b[0m \u001b[38;5;28;01mif\u001b[39;00m source_address:\n\u001b[1;32m    836\u001b[0m     sock\u001b[38;5;241m.\u001b[39mbind(source_address)\n\u001b[0;32m--> 837\u001b[0m \u001b[43msock\u001b[49m\u001b[38;5;241;43m.\u001b[39;49m\u001b[43mconnect\u001b[49m\u001b[43m(\u001b[49m\u001b[43msa\u001b[49m\u001b[43m)\u001b[49m\n\u001b[1;32m    838\u001b[0m \u001b[38;5;66;03m# Break explicitly a reference cycle\u001b[39;00m\n\u001b[1;32m    839\u001b[0m exceptions\u001b[38;5;241m.\u001b[39mclear()\n",
      "\u001b[0;31mConnectionRefusedError\u001b[0m: [Errno 61] Connection refused"
     ]
    }
   ],
   "source": [
    "import paho.mqtt.client as mqtt\n",
    "\n",
    "# MQTT Broker connection settings\n",
    "mqtt_broker = \"localhost\"\n",
    "mqtt_topic_sampling = \"plant/sampling_rate\"\n",
    "mqtt_topic_position = \"plant/change_position\"\n",
    "\n",
    "# I create a local variable to store the position of the plant sensor\n",
    "plant_position = \"position A\"\n",
    "\n",
    "mqtt_client = mqtt.Client()\n",
    "\n",
    "# MQTT connect callback\n",
    "def on_connect(client, userdata, flags, rc):\n",
    "    if rc == 0:\n",
    "        print(\"Connected to MQTT Broker!\")\n",
    "    else:\n",
    "        print(f\"Failed to connect, return code {rc}\")\n",
    "\n",
    "# Setup MQTT\n",
    "def mqtt_setup():\n",
    "    mqtt_client.on_connect = on_connect\n",
    "    mqtt_client.connect(mqtt_broker)\n",
    "    mqtt_client.loop_start()  # Start the MQTT client loop\n",
    "\n",
    "# Function to publish MQTT messages\n",
    "def publish_mqtt(topic, message):\n",
    "    mqtt_client.publish(topic, message)\n",
    "    print(f\"Published message: {message} to topic: {topic}\")\n",
    "\n",
    "# Function to change the position of the plant sensor\n",
    "def change_position(new_position):\n",
    "    global plant_position\n",
    "    plant_position = new_position\n",
    "    print(f\"Plant position changed to: {plant_position}\")\n",
    "    publish_mqtt(mqtt_topic_position, plant_position)\n",
    "\n",
    "if __name__ == \"__main__\":\n",
    "    # Initialize MQTT setup\n",
    "    mqtt_setup()\n",
    "\n",
    "    # Example: publishing sampling rate change\n",
    "    publish_mqtt(mqtt_topic_sampling, \"2\")  # Change sampling rate to 60 seconds\n",
    "    \n",
    "    # Example: publishing position change\n",
    "    publish_mqtt(mqtt_topic_position, \"position B\")  # Change position to position B\n",
    "    \n",
    "    # Keep the script running for MQTT to continue\n",
    "    while True:\n",
    "        pass\n"
   ]
  }
 ],
 "metadata": {
  "kernelspec": {
   "display_name": "base",
   "language": "python",
   "name": "python3"
  },
  "language_info": {
   "codemirror_mode": {
    "name": "ipython",
    "version": 3
   },
   "file_extension": ".py",
   "mimetype": "text/x-python",
   "name": "python",
   "nbconvert_exporter": "python",
   "pygments_lexer": "ipython3",
   "version": "3.12.2"
  }
 },
 "nbformat": 4,
 "nbformat_minor": 2
}
