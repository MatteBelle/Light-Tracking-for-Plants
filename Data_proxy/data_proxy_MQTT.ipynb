{
 "cells": [
  {
   "cell_type": "markdown",
   "metadata": {},
   "source": [
    "# My code"
   ]
  },
  {
   "cell_type": "code",
   "execution_count": 1,
   "metadata": {},
   "outputs": [
    {
     "name": "stderr",
     "output_type": "stream",
     "text": [
      "/var/folders/c6/1hn20g9j0gqc9yhtqyl13xcw0000gn/T/ipykernel_6035/2727284510.py:11: DeprecationWarning: Callback API version 1 is deprecated, update to latest version\n",
      "  mqtt_client = mqtt.Client()\n"
     ]
    },
    {
     "name": "stdout",
     "output_type": "stream",
     "text": [
      "Published message: 2 to topic: plant/sampling_rate\n",
      "Published message: position B to topic: plant/change_position\n",
      "Connected to MQTT Broker!\n"
     ]
    },
    {
     "ename": "KeyboardInterrupt",
     "evalue": "",
     "output_type": "error",
     "traceback": [
      "\u001b[0;31m---------------------------------------------------------------------------\u001b[0m",
      "\u001b[0;31mKeyboardInterrupt\u001b[0m                         Traceback (most recent call last)",
      "Cell \u001b[0;32mIn[1], line 49\u001b[0m\n\u001b[1;32m     46\u001b[0m publish_mqtt(mqtt_topic_position, \u001b[38;5;124m\"\u001b[39m\u001b[38;5;124mposition B\u001b[39m\u001b[38;5;124m\"\u001b[39m)  \u001b[38;5;66;03m# Change position to position B\u001b[39;00m\n\u001b[1;32m     48\u001b[0m \u001b[38;5;66;03m# Keep the script running for MQTT to continue\u001b[39;00m\n\u001b[0;32m---> 49\u001b[0m \u001b[38;5;28;01mwhile\u001b[39;00m \u001b[38;5;28;01mTrue\u001b[39;00m:\n\u001b[1;32m     50\u001b[0m     \u001b[38;5;28;01mpass\u001b[39;00m\n",
      "\u001b[0;31mKeyboardInterrupt\u001b[0m: "
     ]
    }
   ],
   "source": [
    "import paho.mqtt.client as mqtt\n",
    "\n",
    "# MQTT Broker connection settings\n",
    "mqtt_broker = \"localhost\"\n",
    "mqtt_topic_sampling = \"plant/sampling_rate\"\n",
    "mqtt_topic_position = \"plant/change_position\"\n",
    "\n",
    "# I create a local variable to store the position of the plant sensor\n",
    "plant_position = \"position A\"\n",
    "\n",
    "mqtt_client = mqtt.Client()\n",
    "\n",
    "# MQTT connect callback\n",
    "def on_connect(client, userdata, flags, rc):\n",
    "    if rc == 0:\n",
    "        print(\"Connected to MQTT Broker!\")\n",
    "    else:\n",
    "        print(f\"Failed to connect, return code {rc}\")\n",
    "\n",
    "# Setup MQTT\n",
    "def mqtt_setup():\n",
    "    mqtt_client.on_connect = on_connect\n",
    "    mqtt_client.connect(mqtt_broker)\n",
    "    mqtt_client.loop_start()  # Start the MQTT client loop\n",
    "\n",
    "# Function to publish MQTT messages\n",
    "def publish_mqtt(topic, message):\n",
    "    mqtt_client.publish(topic, message)\n",
    "    print(f\"Published message: {message} to topic: {topic}\")\n",
    "\n",
    "# Function to change the position of the plant sensor\n",
    "def change_position(new_position):\n",
    "    global plant_position\n",
    "    plant_position = new_position\n",
    "    print(f\"Plant position changed to: {plant_position}\")\n",
    "    publish_mqtt(mqtt_topic_position, plant_position)\n",
    "\n",
    "if __name__ == \"__main__\":\n",
    "    # Initialize MQTT setup\n",
    "    mqtt_setup()\n",
    "\n",
    "    # Example: publishing sampling rate change\n",
    "    publish_mqtt(mqtt_topic_sampling, \"2\")  # Change sampling rate to 60 seconds\n",
    "    \n",
    "    # Example: publishing position change\n",
    "    publish_mqtt(mqtt_topic_position, \"position B\")  # Change position to position B\n",
    "    \n",
    "    # Keep the script running for MQTT to continue\n",
    "    while True:\n",
    "        pass\n"
   ]
  }
 ],
 "metadata": {
  "kernelspec": {
   "display_name": "base",
   "language": "python",
   "name": "python3"
  },
  "language_info": {
   "codemirror_mode": {
    "name": "ipython",
    "version": 3
   },
   "file_extension": ".py",
   "mimetype": "text/x-python",
   "name": "python",
   "nbconvert_exporter": "python",
   "pygments_lexer": "ipython3",
   "version": "3.12.2"
  }
 },
 "nbformat": 4,
 "nbformat_minor": 2
}
