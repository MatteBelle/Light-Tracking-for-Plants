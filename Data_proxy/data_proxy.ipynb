{
 "cells": [
  {
   "cell_type": "code",
   "execution_count": null,
   "metadata": {},
   "outputs": [],
   "source": [
    "import requests\n",
    "from flask import Flask, request, jsonify\n",
    "import json\n",
    "import os\n",
    "\n",
    "app = Flask(__name__)\n",
    "\n",
    "# File to store data\n",
    "DATA_FILE = 'sensor_data.json'\n",
    "\n",
    "# Function to save data to a file\n",
    "def save_data(data):\n",
    "    with open(DATA_FILE, 'a') as f:\n",
    "        f.write(json.dumps(data) + '\\n')\n",
    "\n",
    "# Endpoint to receive sensor data\n",
    "@app.route('/sensor_data', methods=['POST'])\n",
    "def sensor_data():\n",
    "    try:\n",
    "        # Get the data sent from the ESP32\n",
    "        data = request.get_json()\n",
    "\n",
    "        # Add received timestamp\n",
    "        data['received_timestamp'] = time.time()\n",
    "\n",
    "        # Save the data\n",
    "        save_data(data)\n",
    "\n",
    "        # Send acknowledgment back to ESP32\n",
    "        return jsonify({\"status\": \"success\", \"message\": \"Data received\"}), 200\n",
    "\n",
    "    except Exception as e:\n",
    "        print(f\"Error: {str(e)}\")\n",
    "        return jsonify({\"status\": \"error\", \"message\": str(e)}), 500\n",
    "\n",
    "if __name__ == '__main__':\n",
    "    app.run(host='0.0.0.0', port=5000)\n"
   ]
  }
 ],
 "metadata": {
  "language_info": {
   "name": "python"
  }
 },
 "nbformat": 4,
 "nbformat_minor": 2
}
